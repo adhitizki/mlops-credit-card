{
 "cells": [
  {
   "cell_type": "code",
   "execution_count": 1,
   "metadata": {},
   "outputs": [],
   "source": [
    "import os"
   ]
  },
  {
   "cell_type": "code",
   "execution_count": 2,
   "metadata": {},
   "outputs": [
    {
     "data": {
      "text/plain": [
       "'/home/adhitizki/playground/pacmann/mlops_credit_card/mlops-credit-card/notebooks'"
      ]
     },
     "execution_count": 2,
     "metadata": {},
     "output_type": "execute_result"
    }
   ],
   "source": [
    "%pwd"
   ]
  },
  {
   "cell_type": "code",
   "execution_count": 3,
   "metadata": {},
   "outputs": [],
   "source": [
    "# Change to the main directory\n",
    "# So, it's executed from main directory\n",
    "os.chdir(\"../\")"
   ]
  },
  {
   "cell_type": "code",
   "execution_count": 4,
   "metadata": {},
   "outputs": [
    {
     "data": {
      "text/plain": [
       "'/home/adhitizki/playground/pacmann/mlops_credit_card/mlops-credit-card'"
      ]
     },
     "execution_count": 4,
     "metadata": {},
     "output_type": "execute_result"
    }
   ],
   "source": [
    "%pwd"
   ]
  },
  {
   "cell_type": "markdown",
   "metadata": {},
   "source": [
    "### Training Config\n",
    "\n",
    "This code will be apply in `src/MLProject/entity/config_entity.py`."
   ]
  },
  {
   "cell_type": "code",
   "execution_count": 5,
   "metadata": {},
   "outputs": [],
   "source": [
    "from dataclasses import dataclass\n",
    "from pathlib import Path\n",
    "\n",
    "@dataclass(frozen=True)\n",
    "class TrainingConfig:\n",
    "    root_dir: Path\n",
    "    input_train_path: Path\n",
    "    output_train_path: Path\n",
    "    scaled_train_path: Path\n",
    "    model_path: Path\n",
    "    params_max_iter: int\n",
    "    params_solver: str\n",
    "    params_n_jobs: int"
   ]
  },
  {
   "cell_type": "markdown",
   "metadata": {},
   "source": [
    "### Training Config Manager\n",
    "\n",
    "This code will be apply in `src/MLProject/config/configurations.py`."
   ]
  },
  {
   "cell_type": "code",
   "execution_count": 6,
   "metadata": {},
   "outputs": [],
   "source": [
    "from MLProject.constants import CONFIG_FILE_PATH, PARAMS_FILE_PATH\n",
    "from MLProject.utils.common import read_yaml, create_directories"
   ]
  },
  {
   "cell_type": "code",
   "execution_count": 7,
   "metadata": {},
   "outputs": [],
   "source": [
    "class ConfigurationManager:\n",
    "    def __init__(self, \n",
    "                 config_filepath = CONFIG_FILE_PATH,\n",
    "                 params_filepath = PARAMS_FILE_PATH):\n",
    "\n",
    "        self.config = read_yaml(config_filepath)\n",
    "        self.params = read_yaml(params_filepath)\n",
    "\n",
    "        create_directories([self.config.artifacts_root])\n",
    "    \n",
    "    def get_training_config(self) -> TrainingConfig:\n",
    "        \"\"\"read training config file and store as config entity\n",
    "        then apply the dataclasses\n",
    "        \n",
    "        Returns:\n",
    "            config: TrainingConfig type\n",
    "        \"\"\"\n",
    "        data_dump_config = self.config.dump_data\n",
    "        scaler_config = self.config.scaler_data\n",
    "        train_config = self.config.train_model\n",
    "        train_params = self.params\n",
    "\n",
    "        create_directories([train_config.root_dir])\n",
    "\n",
    "        config = TrainingConfig(\n",
    "            root_dir=train_config.root_dir,\n",
    "            input_train_path=Path(data_dump_config.input_train_path),\n",
    "            output_train_path=Path(data_dump_config.output_train_path),\n",
    "            scaled_train_path=Path(scaler_config.scaled_train_path),\n",
    "            model_path=Path(train_config.model_path),\n",
    "            params_max_iter=train_params.MAX_ITER,\n",
    "            params_solver=train_params.SOLVER,\n",
    "            params_n_jobs=train_params.N_JOBS\n",
    "        )\n",
    "\n",
    "        return config"
   ]
  },
  {
   "cell_type": "markdown",
   "metadata": {},
   "source": [
    "### Perform Training\n",
    "\n",
    "This code in `src/MLProject/components/training.py`.\n",
    "\n",
    "For this example, for initial run we could use logistic regression, later on we could try:\n",
    "+ another model\n",
    "+ another data enrichment technique\n",
    "+ another model tweaking"
   ]
  },
  {
   "cell_type": "code",
   "execution_count": 8,
   "metadata": {},
   "outputs": [],
   "source": [
    "import joblib\n",
    "\n",
    "from sklearn.linear_model import LogisticRegression\n",
    "from sklearn.metrics import classification_report\n",
    "\n",
    "from MLProject import logger\n",
    "\n",
    "class Training:\n",
    "    def __init__(self, config: TrainingConfig):\n",
    "        self.config = config\n",
    "\n",
    "    def logistic_regression(self) -> None:\n",
    "        \"\"\"train the data with linear regression model and dump the data\n",
    "        \"\"\"\n",
    "        logger.info(f\"Load scaled data train from {self.config.scaled_train_path}.\")\n",
    "        X_train_scaled = joblib.load(self.config.scaled_train_path)\n",
    "        \n",
    "        logger.info(f\"Load data train output from {self.config.output_train_path}.\")\n",
    "        y_train = joblib.load(self.config.output_train_path)\n",
    "        \n",
    "        logger.info(f\"Train the model.\")\n",
    "        model = LogisticRegression(\n",
    "            solver=self.config.params_solver,\n",
    "            max_iter=self.config.params_max_iter,\n",
    "            n_jobs=self.config.params_n_jobs\n",
    "        )\n",
    "        \n",
    "        model.fit(X_train_scaled, y_train)\n",
    "        \n",
    "        logger.info(f\"Dump the model.\")\n",
    "        joblib.dump(model, self.config.model_path)"
   ]
  },
  {
   "cell_type": "markdown",
   "metadata": {},
   "source": [
    "### Traning the Model\n",
    "\n",
    "This code in `src/MLProject/pipeline/step_03_training.py`."
   ]
  },
  {
   "cell_type": "code",
   "execution_count": 9,
   "metadata": {},
   "outputs": [
    {
     "name": "stdout",
     "output_type": "stream",
     "text": [
      "[2024-07-21 17:06:37,664: INFO: common: yaml file: config/config.yaml loaded successfully]\n",
      "[2024-07-21 17:06:37,670: INFO: common: yaml file: metrics/params.yaml loaded successfully]\n",
      "[2024-07-21 17:06:37,671: INFO: common: created directory at: artifacts]\n",
      "[2024-07-21 17:06:37,672: ERROR: 3412638566: \"'ConfigBox' object has no attribute 'dump_data'\"]\n"
     ]
    },
    {
     "ename": "BoxKeyError",
     "evalue": "\"'ConfigBox' object has no attribute 'dump_data'\"",
     "output_type": "error",
     "traceback": [
      "\u001b[0;31m---------------------------------------------------------------------------\u001b[0m",
      "\u001b[0;31mKeyError\u001b[0m                                  Traceback (most recent call last)",
      "File \u001b[0;32m~/playground/pacmann/mlops_credit_card/mlops-credit-card/.venv/lib/python3.10/site-packages/box/box.py:593\u001b[0m, in \u001b[0;36mbox.box.Box.__getitem__\u001b[0;34m()\u001b[0m\n",
      "\u001b[0;31mKeyError\u001b[0m: 'dump_data'",
      "\nThe above exception was the direct cause of the following exception:\n",
      "\u001b[0;31mBoxKeyError\u001b[0m                               Traceback (most recent call last)",
      "File \u001b[0;32m~/playground/pacmann/mlops_credit_card/mlops-credit-card/.venv/lib/python3.10/site-packages/box/box.py:632\u001b[0m, in \u001b[0;36mbox.box.Box.__getattr__\u001b[0;34m()\u001b[0m\n",
      "File \u001b[0;32m~/playground/pacmann/mlops_credit_card/mlops-credit-card/.venv/lib/python3.10/site-packages/box/box.py:620\u001b[0m, in \u001b[0;36mbox.box.Box.__getitem__\u001b[0;34m()\u001b[0m\n",
      "\u001b[0;31mBoxKeyError\u001b[0m: \"'dump_data'\"",
      "\nDuring handling of the above exception, another exception occurred:\n",
      "\u001b[0;31mAttributeError\u001b[0m                            Traceback (most recent call last)",
      "File \u001b[0;32m~/playground/pacmann/mlops_credit_card/mlops-credit-card/.venv/lib/python3.10/site-packages/box/box.py:634\u001b[0m, in \u001b[0;36mbox.box.Box.__getattr__\u001b[0;34m()\u001b[0m\n",
      "\u001b[0;31mAttributeError\u001b[0m: 'ConfigBox' object has no attribute 'dump_data'",
      "\nThe above exception was the direct cause of the following exception:\n",
      "\u001b[0;31mBoxKeyError\u001b[0m                               Traceback (most recent call last)",
      "File \u001b[0;32m~/playground/pacmann/mlops_credit_card/mlops-credit-card/.venv/lib/python3.10/site-packages/box/config_box.py:29\u001b[0m, in \u001b[0;36mbox.config_box.ConfigBox.__getattr__\u001b[0;34m()\u001b[0m\n",
      "File \u001b[0;32m~/playground/pacmann/mlops_credit_card/mlops-credit-card/.venv/lib/python3.10/site-packages/box/box.py:648\u001b[0m, in \u001b[0;36mbox.box.Box.__getattr__\u001b[0;34m()\u001b[0m\n",
      "\u001b[0;31mBoxKeyError\u001b[0m: \"'ConfigBox' object has no attribute 'dump_data'\"",
      "\nDuring handling of the above exception, another exception occurred:\n",
      "\u001b[0;31mKeyError\u001b[0m                                  Traceback (most recent call last)",
      "File \u001b[0;32m~/playground/pacmann/mlops_credit_card/mlops-credit-card/.venv/lib/python3.10/site-packages/box/box.py:593\u001b[0m, in \u001b[0;36mbox.box.Box.__getitem__\u001b[0;34m()\u001b[0m\n",
      "\u001b[0;31mKeyError\u001b[0m: 'dump_data'",
      "\nThe above exception was the direct cause of the following exception:\n",
      "\u001b[0;31mBoxKeyError\u001b[0m                               Traceback (most recent call last)",
      "File \u001b[0;32m~/playground/pacmann/mlops_credit_card/mlops-credit-card/.venv/lib/python3.10/site-packages/box/box.py:632\u001b[0m, in \u001b[0;36mbox.box.Box.__getattr__\u001b[0;34m()\u001b[0m\n",
      "File \u001b[0;32m~/playground/pacmann/mlops_credit_card/mlops-credit-card/.venv/lib/python3.10/site-packages/box/box.py:620\u001b[0m, in \u001b[0;36mbox.box.Box.__getitem__\u001b[0;34m()\u001b[0m\n",
      "\u001b[0;31mBoxKeyError\u001b[0m: \"'dump_data'\"",
      "\nDuring handling of the above exception, another exception occurred:\n",
      "\u001b[0;31mAttributeError\u001b[0m                            Traceback (most recent call last)",
      "File \u001b[0;32m~/playground/pacmann/mlops_credit_card/mlops-credit-card/.venv/lib/python3.10/site-packages/box/box.py:634\u001b[0m, in \u001b[0;36mbox.box.Box.__getattr__\u001b[0;34m()\u001b[0m\n",
      "\u001b[0;31mAttributeError\u001b[0m: 'ConfigBox' object has no attribute 'dump_data'",
      "\nThe above exception was the direct cause of the following exception:\n",
      "\u001b[0;31mBoxKeyError\u001b[0m                               Traceback (most recent call last)",
      "Cell \u001b[0;32mIn[9], line 8\u001b[0m\n\u001b[1;32m      6\u001b[0m \u001b[38;5;28;01mexcept\u001b[39;00m \u001b[38;5;167;01mException\u001b[39;00m \u001b[38;5;28;01mas\u001b[39;00m e:\n\u001b[1;32m      7\u001b[0m     logger\u001b[38;5;241m.\u001b[39merror(e)\n\u001b[0;32m----> 8\u001b[0m     \u001b[38;5;28;01mraise\u001b[39;00m e\n",
      "Cell \u001b[0;32mIn[9], line 3\u001b[0m\n\u001b[1;32m      1\u001b[0m \u001b[38;5;28;01mtry\u001b[39;00m:\n\u001b[1;32m      2\u001b[0m     config \u001b[38;5;241m=\u001b[39m ConfigurationManager()\n\u001b[0;32m----> 3\u001b[0m     training_config \u001b[38;5;241m=\u001b[39m \u001b[43mconfig\u001b[49m\u001b[38;5;241;43m.\u001b[39;49m\u001b[43mget_training_config\u001b[49m\u001b[43m(\u001b[49m\u001b[43m)\u001b[49m\n\u001b[1;32m      4\u001b[0m     training \u001b[38;5;241m=\u001b[39m Training(config\u001b[38;5;241m=\u001b[39mtraining_config)\n\u001b[1;32m      5\u001b[0m     training\u001b[38;5;241m.\u001b[39mlogistic_regression()\n",
      "Cell \u001b[0;32mIn[7], line 18\u001b[0m, in \u001b[0;36mConfigurationManager.get_training_config\u001b[0;34m(self)\u001b[0m\n\u001b[1;32m     11\u001b[0m \u001b[38;5;28;01mdef\u001b[39;00m \u001b[38;5;21mget_training_config\u001b[39m(\u001b[38;5;28mself\u001b[39m) \u001b[38;5;241m-\u001b[39m\u001b[38;5;241m>\u001b[39m TrainingConfig:\n\u001b[1;32m     12\u001b[0m \u001b[38;5;250m    \u001b[39m\u001b[38;5;124;03m\"\"\"read training config file and store as config entity\u001b[39;00m\n\u001b[1;32m     13\u001b[0m \u001b[38;5;124;03m    then apply the dataclasses\u001b[39;00m\n\u001b[1;32m     14\u001b[0m \u001b[38;5;124;03m    \u001b[39;00m\n\u001b[1;32m     15\u001b[0m \u001b[38;5;124;03m    Returns:\u001b[39;00m\n\u001b[1;32m     16\u001b[0m \u001b[38;5;124;03m        config: TrainingConfig type\u001b[39;00m\n\u001b[1;32m     17\u001b[0m \u001b[38;5;124;03m    \"\"\"\u001b[39;00m\n\u001b[0;32m---> 18\u001b[0m     data_dump_config \u001b[38;5;241m=\u001b[39m \u001b[38;5;28;43mself\u001b[39;49m\u001b[38;5;241;43m.\u001b[39;49m\u001b[43mconfig\u001b[49m\u001b[38;5;241;43m.\u001b[39;49m\u001b[43mdump_data\u001b[49m\n\u001b[1;32m     19\u001b[0m     scaler_config \u001b[38;5;241m=\u001b[39m \u001b[38;5;28mself\u001b[39m\u001b[38;5;241m.\u001b[39mconfig\u001b[38;5;241m.\u001b[39mscaler_data\n\u001b[1;32m     20\u001b[0m     train_config \u001b[38;5;241m=\u001b[39m \u001b[38;5;28mself\u001b[39m\u001b[38;5;241m.\u001b[39mconfig\u001b[38;5;241m.\u001b[39mtrain_model\n",
      "File \u001b[0;32m~/playground/pacmann/mlops_credit_card/mlops-credit-card/.venv/lib/python3.10/site-packages/box/config_box.py:31\u001b[0m, in \u001b[0;36mbox.config_box.ConfigBox.__getattr__\u001b[0;34m()\u001b[0m\n",
      "File \u001b[0;32m~/playground/pacmann/mlops_credit_card/mlops-credit-card/.venv/lib/python3.10/site-packages/box/box.py:648\u001b[0m, in \u001b[0;36mbox.box.Box.__getattr__\u001b[0;34m()\u001b[0m\n",
      "\u001b[0;31mBoxKeyError\u001b[0m: \"'ConfigBox' object has no attribute 'dump_data'\""
     ]
    }
   ],
   "source": [
    "try:\n",
    "    config = ConfigurationManager()\n",
    "    training_config = config.get_training_config()\n",
    "    training = Training(config=training_config)\n",
    "    training.logistic_regression()\n",
    "except Exception as e:\n",
    "    logger.error(e)\n",
    "    raise e"
   ]
  },
  {
   "cell_type": "markdown",
   "metadata": {},
   "source": [
    "**Debug**: Predict by showing the data training prediction result."
   ]
  },
  {
   "cell_type": "code",
   "execution_count": 10,
   "metadata": {},
   "outputs": [
    {
     "data": {
      "text/plain": [
       "325383    1\n",
       "243312    0\n",
       "475129    1\n",
       "291944    1\n",
       "564915    1\n",
       "         ..\n",
       "236610    0\n",
       "340987    1\n",
       "556907    1\n",
       "360063    1\n",
       "366060    1\n",
       "Length: 113726, dtype: int64"
      ]
     },
     "execution_count": 10,
     "metadata": {},
     "output_type": "execute_result"
    }
   ],
   "source": [
    "import pandas as pd\n",
    "\n",
    "X_train = joblib.load(training_config.input_train_path)\n",
    "X_train_scaled = joblib.load(training_config.scaled_train_path)\n",
    "y_train = joblib.load(training_config.output_train_path)\n",
    "model = joblib.load(training_config.model_path)\n",
    "\n",
    "y_pred = pd.Series(model.predict(X_train_scaled), index = X_train.index)\n",
    "y_pred"
   ]
  },
  {
   "cell_type": "code",
   "execution_count": 11,
   "metadata": {},
   "outputs": [
    {
     "name": "stdout",
     "output_type": "stream",
     "text": [
      "              precision    recall  f1-score   support\n",
      "\n",
      "           0       0.95      0.98      0.97     56863\n",
      "           1       0.98      0.95      0.96     56863\n",
      "\n",
      "    accuracy                           0.96    113726\n",
      "   macro avg       0.97      0.96      0.96    113726\n",
      "weighted avg       0.97      0.96      0.96    113726\n",
      "\n"
     ]
    }
   ],
   "source": [
    "print(f\"{classification_report(y_train, y_pred)}\")"
   ]
  },
  {
   "cell_type": "code",
   "execution_count": null,
   "metadata": {},
   "outputs": [],
   "source": []
  }
 ],
 "metadata": {
  "kernelspec": {
   "display_name": ".venv_lzd",
   "language": "python",
   "name": "python3"
  },
  "language_info": {
   "codemirror_mode": {
    "name": "ipython",
    "version": 3
   },
   "file_extension": ".py",
   "mimetype": "text/x-python",
   "name": "python",
   "nbconvert_exporter": "python",
   "pygments_lexer": "ipython3",
   "version": "3.10.12"
  }
 },
 "nbformat": 4,
 "nbformat_minor": 2
}
