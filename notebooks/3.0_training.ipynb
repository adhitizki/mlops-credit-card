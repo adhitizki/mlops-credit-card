{
 "cells": [
  {
   "cell_type": "code",
   "execution_count": 1,
   "metadata": {},
   "outputs": [],
   "source": [
    "import os"
   ]
  },
  {
   "cell_type": "code",
   "execution_count": 2,
   "metadata": {},
   "outputs": [
    {
     "data": {
      "text/plain": [
       "'/home/adhitizki/playground/pacmann/mlops_credit_card/mlops-credit-card/notebooks'"
      ]
     },
     "execution_count": 2,
     "metadata": {},
     "output_type": "execute_result"
    }
   ],
   "source": [
    "%pwd"
   ]
  },
  {
   "cell_type": "code",
   "execution_count": 3,
   "metadata": {},
   "outputs": [],
   "source": [
    "# Change to the main directory\n",
    "# So, it's executed from main directory\n",
    "os.chdir(\"../\")"
   ]
  },
  {
   "cell_type": "code",
   "execution_count": 4,
   "metadata": {},
   "outputs": [
    {
     "data": {
      "text/plain": [
       "'/home/adhitizki/playground/pacmann/mlops_credit_card/mlops-credit-card'"
      ]
     },
     "execution_count": 4,
     "metadata": {},
     "output_type": "execute_result"
    }
   ],
   "source": [
    "%pwd"
   ]
  },
  {
   "cell_type": "markdown",
   "metadata": {},
   "source": [
    "### Training Config\n",
    "\n",
    "This code will be apply in `src/MLProject/entity/config_entity.py`."
   ]
  },
  {
   "cell_type": "code",
   "execution_count": 5,
   "metadata": {},
   "outputs": [],
   "source": [
    "from dataclasses import dataclass\n",
    "from pathlib import Path\n",
    "\n",
    "@dataclass(frozen=True)\n",
    "class TrainingConfig:\n",
    "    input_train_path: Path\n",
    "    output_train_path: Path\n",
    "    output_test_path: Path\n",
    "    scaled_train_path: Path\n",
    "    scaled_test_path: Path\n",
    "    model_path: Path\n",
    "    params_C: list\n",
    "    params_solver: list\n",
    "    params_n_trials: list"
   ]
  },
  {
   "cell_type": "markdown",
   "metadata": {},
   "source": [
    "### Training Config Manager\n",
    "\n",
    "This code will be apply in `src/MLProject/config/configurations.py`."
   ]
  },
  {
   "cell_type": "code",
   "execution_count": 6,
   "metadata": {},
   "outputs": [],
   "source": [
    "from MLProject.constants import CONFIG_FILE_PATH, PARAMS_FILE_PATH\n",
    "from MLProject.utils.common import read_yaml, create_directories"
   ]
  },
  {
   "cell_type": "code",
   "execution_count": 7,
   "metadata": {},
   "outputs": [],
   "source": [
    "class ConfigurationManager:\n",
    "    def __init__(self, \n",
    "                 config_filepath = CONFIG_FILE_PATH,\n",
    "                 params_filepath = PARAMS_FILE_PATH):\n",
    "\n",
    "        self.config = read_yaml(config_filepath)\n",
    "        self.params = read_yaml(params_filepath)\n",
    "\n",
    "        create_directories([self.config.artifacts_root])\n",
    "    \n",
    "    def get_training_config(self) -> TrainingConfig:\n",
    "        \"\"\"read training config file and store as config entity\n",
    "        then apply the dataclasses\n",
    "        \n",
    "        Returns:\n",
    "            config: TrainingConfig type\n",
    "        \"\"\"\n",
    "        data_dump_config = self.config.dump_data\n",
    "        scaler_config = self.config.scale_data\n",
    "        train_config = self.config.train_model\n",
    "        train_params = self.params\n",
    "\n",
    "        config = TrainingConfig(\n",
    "            input_train_path=Path(data_dump_config.input_train_path),\n",
    "            output_train_path=Path(data_dump_config.output_train_path),\n",
    "            output_test_path=Path(data_dump_config.output_test_path),\n",
    "            scaled_train_path=Path(scaler_config.scaled_train_path),\n",
    "            scaled_test_path=Path(scaler_config.scaled_test_path),\n",
    "            model_path=Path(train_config.model_path),\n",
    "            params_C=train_params.C,\n",
    "            params_solver=train_params.SOLVER,\n",
    "            params_n_trials=train_params.N_TRIALS,\n",
    "        )\n",
    "\n",
    "        return config"
   ]
  },
  {
   "cell_type": "markdown",
   "metadata": {},
   "source": [
    "### Perform Training\n",
    "\n",
    "This code in `src/MLProject/components/training.py`.\n",
    "\n",
    "For this example, for initial run we could use logistic regression, later on we could try:\n",
    "+ another model\n",
    "+ another data enrichment technique\n",
    "+ another model tweaking"
   ]
  },
  {
   "cell_type": "code",
   "execution_count": 8,
   "metadata": {},
   "outputs": [],
   "source": [
    "import joblib\n",
    "import optuna\n",
    "from sklearn.linear_model import LogisticRegression\n",
    "from sklearn.metrics import f1_score\n",
    "\n",
    "\n",
    "from MLProject import logger\n",
    "\n",
    "class Training:\n",
    "    def __init__(self, config: TrainingConfig):\n",
    "        self.config = config\n",
    "\n",
    "    def objective(self, trial):\n",
    "        # Define hyperparameters to optimize\n",
    "        C = trial.suggest_float('C', *self.config.params_C, log=True)\n",
    "        solver = trial.suggest_categorical('solver', self.config.params_solver)\n",
    "        \n",
    "        # Initialize and train the Logistic Regression classifier\n",
    "        model = LogisticRegression(\n",
    "            C=C,\n",
    "            solver=solver,\n",
    "            random_state=42\n",
    "        )\n",
    "        \n",
    "        # Fit the model on the training data\n",
    "        model.fit(self.X_train_scaled, self.y_train)\n",
    "        \n",
    "        # Predict on the validation set\n",
    "        y_test_pred = model.predict(self.X_test_scaled)\n",
    "        \n",
    "        # Compute the F1 score for class 1\n",
    "        f1 = f1_score(self.y_test, y_test_pred, labels=[1], average='binary')\n",
    "        return f1\n",
    "\n",
    "    def hpo_logistic_regression(self) -> None:\n",
    "        \"\"\"train the data with random forest model using hyperparameter optimization and dump the data\n",
    "        \"\"\"\n",
    "        logger.info(f\"Load scaled data train from {self.config.scaled_train_path}.\")\n",
    "        self.X_train_scaled = joblib.load(self.config.scaled_train_path)\n",
    "\n",
    "        logger.info(f\"Load scaled data test from {self.config.scaled_test_path}.\")\n",
    "        self.X_test_scaled = joblib.load(self.config.scaled_test_path)\n",
    "        \n",
    "        logger.info(f\"Load data train output from {self.config.output_train_path}.\")\n",
    "        self.y_train = joblib.load(self.config.output_train_path)\n",
    "\n",
    "        logger.info(f\"Load data test output from {self.config.output_test_path}.\")\n",
    "        self.y_test = joblib.load(self.config.output_test_path)\n",
    "\n",
    "        logger.info(f\"Find best parameter using hyperparameter optimization\")\n",
    "        study = optuna.create_study(direction='maximize')\n",
    "        study.optimize(self.objective, n_trials=self.config.params_n_trials)\n",
    "\n",
    "        logger.info(f\"Get best parameter\")\n",
    "        best_params = study.best_params\n",
    "        \n",
    "        logger.info(f\"Train the model.\")\n",
    "        model = LogisticRegression(\n",
    "            C=best_params['C'],\n",
    "            solver=best_params['solver'],\n",
    "            random_state=42\n",
    "        )\n",
    "        model.fit(self.X_train_scaled, self.y_train)\n",
    "        \n",
    "        logger.info(f\"Dump the model.\")\n",
    "        joblib.dump(model, self.config.model_path)"
   ]
  },
  {
   "cell_type": "markdown",
   "metadata": {},
   "source": [
    "### Traning the Model\n",
    "\n",
    "This code in `src/MLProject/pipeline/step_03_training.py`."
   ]
  },
  {
   "cell_type": "code",
   "execution_count": 9,
   "metadata": {},
   "outputs": [
    {
     "name": "stdout",
     "output_type": "stream",
     "text": [
      "[2024-07-21 21:53:51,393: INFO: common: yaml file: config/config.yaml loaded successfully]\n",
      "[2024-07-21 21:53:51,398: INFO: common: yaml file: metrics/params.yaml loaded successfully]\n",
      "[2024-07-21 21:53:51,400: INFO: common: created directory at: artifacts]\n",
      "[2024-07-21 21:53:51,403: INFO: 2455932979: Load scaled data train from artifacts/preprocessing/X_train.csv.]\n",
      "[2024-07-21 21:53:51,477: INFO: 2455932979: Load scaled data test from artifacts/preprocessing/X_test.csv.]\n",
      "[2024-07-21 21:53:51,519: INFO: 2455932979: Load data train output from artifacts/data/y_train.pkl.]\n",
      "[2024-07-21 21:53:52,266: INFO: 2455932979: Load data test output from artifacts/data/y_test.pkl.]\n",
      "[2024-07-21 21:53:52,273: INFO: 2455932979: Find best parameter using hyperparameter optimization]\n"
     ]
    },
    {
     "name": "stderr",
     "output_type": "stream",
     "text": [
      "[I 2024-07-21 21:53:52,274] A new study created in memory with name: no-name-7eb58748-a144-484c-a534-7b9fc297dd8b\n",
      "[I 2024-07-21 21:53:54,793] Trial 0 finished with value: 0.964893945511983 and parameters: {'C': 71.90110251368746, 'solver': 'newton-cholesky'}. Best is trial 0 with value: 0.964893945511983.\n",
      "[I 2024-07-21 21:53:56,423] Trial 1 finished with value: 0.9648426357326234 and parameters: {'C': 0.05463411994862111, 'solver': 'newton-cholesky'}. Best is trial 0 with value: 0.964893945511983.\n",
      "/home/adhitizki/playground/pacmann/mlops_credit_card/mlops-credit-card/.venv/lib/python3.10/site-packages/sklearn/linear_model/_sag.py:349: ConvergenceWarning: The max_iter was reached which means the coef_ did not converge\n",
      "  warnings.warn(\n",
      "[I 2024-07-21 21:54:30,214] Trial 2 finished with value: 0.9613893144389123 and parameters: {'C': 4.190549245591258, 'solver': 'saga'}. Best is trial 0 with value: 0.964893945511983.\n",
      "[I 2024-07-21 21:54:31,659] Trial 3 finished with value: 0.9631009974317625 and parameters: {'C': 0.006345723492790996, 'solver': 'newton-cholesky'}. Best is trial 0 with value: 0.964893945511983.\n",
      "[I 2024-07-21 21:54:33,300] Trial 4 finished with value: 0.9648920623982702 and parameters: {'C': 0.10247212903239473, 'solver': 'newton-cholesky'}. Best is trial 0 with value: 0.964893945511983.\n"
     ]
    },
    {
     "name": "stdout",
     "output_type": "stream",
     "text": [
      "[2024-07-21 21:54:33,301: INFO: 2455932979: Get best parameter]\n",
      "[2024-07-21 21:54:33,304: INFO: 2455932979: Train the model.]\n",
      "[2024-07-21 21:54:34,986: INFO: 2455932979: Dump the model.]\n"
     ]
    }
   ],
   "source": [
    "try:\n",
    "    config = ConfigurationManager()\n",
    "    training_config = config.get_training_config()\n",
    "    training = Training(config=training_config)\n",
    "    training.hpo_logistic_regression()\n",
    "except Exception as e:\n",
    "    logger.error(e)\n",
    "    raise e"
   ]
  },
  {
   "cell_type": "markdown",
   "metadata": {},
   "source": [
    "**Debug**: Predict by showing the data training prediction result."
   ]
  },
  {
   "cell_type": "code",
   "execution_count": 10,
   "metadata": {},
   "outputs": [
    {
     "data": {
      "text/plain": [
       "359382    1\n",
       "110619    0\n",
       "359891    1\n",
       "386967    1\n",
       "349749    0\n",
       "         ..\n",
       "351393    1\n",
       "467299    0\n",
       "237447    0\n",
       "375048    1\n",
       "122556    0\n",
       "Length: 398041, dtype: int64"
      ]
     },
     "execution_count": 10,
     "metadata": {},
     "output_type": "execute_result"
    }
   ],
   "source": [
    "import pandas as pd\n",
    "\n",
    "X_train = joblib.load(training_config.input_train_path)\n",
    "X_train_scaled = joblib.load(training_config.scaled_train_path)\n",
    "y_train = joblib.load(training_config.output_train_path)\n",
    "model = joblib.load(training_config.model_path)\n",
    "\n",
    "y_pred = pd.Series(model.predict(X_train_scaled), index = X_train.index)\n",
    "y_pred"
   ]
  },
  {
   "cell_type": "code",
   "execution_count": 12,
   "metadata": {},
   "outputs": [
    {
     "name": "stdout",
     "output_type": "stream",
     "text": [
      "              precision    recall  f1-score   support\n",
      "\n",
      "           0       0.95      0.98      0.97    199020\n",
      "           1       0.98      0.95      0.96    199021\n",
      "\n",
      "    accuracy                           0.96    398041\n",
      "   macro avg       0.97      0.96      0.96    398041\n",
      "weighted avg       0.97      0.96      0.96    398041\n",
      "\n"
     ]
    }
   ],
   "source": [
    "from sklearn.metrics import classification_report\n",
    "\n",
    "print(f\"{classification_report(y_train, y_pred)}\")"
   ]
  },
  {
   "cell_type": "code",
   "execution_count": null,
   "metadata": {},
   "outputs": [],
   "source": []
  }
 ],
 "metadata": {
  "kernelspec": {
   "display_name": ".venv_lzd",
   "language": "python",
   "name": "python3"
  },
  "language_info": {
   "codemirror_mode": {
    "name": "ipython",
    "version": 3
   },
   "file_extension": ".py",
   "mimetype": "text/x-python",
   "name": "python",
   "nbconvert_exporter": "python",
   "pygments_lexer": "ipython3",
   "version": "3.10.12"
  }
 },
 "nbformat": 4,
 "nbformat_minor": 2
}
