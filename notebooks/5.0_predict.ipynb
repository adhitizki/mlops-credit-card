{
 "cells": [
  {
   "cell_type": "code",
   "execution_count": 1,
   "metadata": {},
   "outputs": [],
   "source": [
    "import os"
   ]
  },
  {
   "cell_type": "code",
   "execution_count": 2,
   "metadata": {},
   "outputs": [
    {
     "data": {
      "text/plain": [
       "'/home/adhitizki/playground/pacmann/mlops_credit_card/mlops-credit-card/notebooks'"
      ]
     },
     "execution_count": 2,
     "metadata": {},
     "output_type": "execute_result"
    }
   ],
   "source": [
    "%pwd"
   ]
  },
  {
   "cell_type": "code",
   "execution_count": 3,
   "metadata": {},
   "outputs": [],
   "source": [
    "# Change to the main directory\n",
    "# So, it's executed from main directory\n",
    "os.chdir(\"../\")"
   ]
  },
  {
   "cell_type": "code",
   "execution_count": 4,
   "metadata": {},
   "outputs": [],
   "source": [
    "# with open('.env') as f:\n",
    "#     os.environ.update(\n",
    "#         line.strip().split('=') for line in f\n",
    "# )"
   ]
  },
  {
   "cell_type": "code",
   "execution_count": 5,
   "metadata": {},
   "outputs": [
    {
     "data": {
      "text/plain": [
       "'/home/adhitizki/playground/pacmann/mlops_credit_card/mlops-credit-card'"
      ]
     },
     "execution_count": 5,
     "metadata": {},
     "output_type": "execute_result"
    }
   ],
   "source": [
    "%pwd"
   ]
  },
  {
   "cell_type": "markdown",
   "metadata": {},
   "source": [
    "### Predict Config\n",
    "\n",
    "This code will be apply in `src/LadazaIDReview/entity/config_entity.py`."
   ]
  },
  {
   "cell_type": "code",
   "execution_count": 6,
   "metadata": {},
   "outputs": [],
   "source": [
    "from dataclasses import dataclass\n",
    "from pathlib import Path\n",
    "\n",
    "@dataclass(frozen=True)\n",
    "class PredictionConfig:\n",
    "    root_dir: Path\n",
    "    mlflow_tracking_uri: str\n",
    "    mlflow_model_name: str\n",
    "    mlflow_deploy_model_alias: Path\n",
    "    mlflow_scaler_model_path: Path\n",
    "    \n",
    "    # for development (debug)\n",
    "    input_valid_path: Path\n",
    "    output_valid_path: Path"
   ]
  },
  {
   "cell_type": "markdown",
   "metadata": {},
   "source": [
    "### Predict Config Manager\n",
    "\n",
    "This code will be apply in `src/MLProject/config/configurations.py`."
   ]
  },
  {
   "cell_type": "code",
   "execution_count": 7,
   "metadata": {},
   "outputs": [],
   "source": [
    "from MLProject.constants import CONFIG_FILE_PATH, PARAMS_FILE_PATH\n",
    "from MLProject.utils.common import read_yaml, create_directories"
   ]
  },
  {
   "cell_type": "code",
   "execution_count": 8,
   "metadata": {},
   "outputs": [],
   "source": [
    "class ConfigurationManager:\n",
    "    def __init__(self, \n",
    "                 config_filepath = CONFIG_FILE_PATH,\n",
    "                 params_filepath = PARAMS_FILE_PATH):\n",
    "\n",
    "        self.config = read_yaml(config_filepath)\n",
    "        self.params = read_yaml(params_filepath)\n",
    "\n",
    "        create_directories([self.config.artifacts_root])\n",
    "    \n",
    "    def get_prediction_config(self) -> PredictionConfig:\n",
    "        \"\"\"read training evaluation config file and store as \n",
    "        config entity then apply the dataclasses\n",
    "        \n",
    "        Returns:\n",
    "            config: PredictionConfig type\n",
    "        \"\"\"\n",
    "        predict_config = self.config.predict\n",
    "        \n",
    "        # for development (debug)\n",
    "        dump_data_config = self.config.dump_data\n",
    "\n",
    "        create_directories([predict_config.root_dir])\n",
    "\n",
    "        config = PredictionConfig(\n",
    "            root_dir=predict_config.root_dir,\n",
    "            mlflow_tracking_uri=os.environ[\"MLFLOW_TRACKING_URI\"],\n",
    "            mlflow_model_name=predict_config.mlflow_model_name,\n",
    "            mlflow_deploy_model_alias=os.environ[\"MLFLOW_DEPLOY_MODEL_ALIAS\"],\n",
    "            mlflow_scaler_model_path=predict_config.mlflow_scaler_model_path,\n",
    "            \n",
    "            # for development (debug)\n",
    "            input_valid_path=dump_data_config.input_valid_path,\n",
    "            output_valid_path=dump_data_config.output_valid_path\n",
    "        )\n",
    "\n",
    "        return config"
   ]
  },
  {
   "cell_type": "code",
   "execution_count": 9,
   "metadata": {},
   "outputs": [],
   "source": [
    "from mlflow.artifacts import download_artifacts\n",
    "from mlflow import MlflowClient\n",
    "from mlflow import pyfunc\n",
    "\n",
    "import joblib"
   ]
  },
  {
   "cell_type": "markdown",
   "metadata": {},
   "source": [
    "---\n",
    "\n",
    "**Debug**: Explain when doing prediction in the notebook with MLflow."
   ]
  },
  {
   "cell_type": "code",
   "execution_count": 10,
   "metadata": {},
   "outputs": [
    {
     "name": "stdout",
     "output_type": "stream",
     "text": [
      "[2024-07-22 23:16:50,680: INFO: common: yaml file: config/config.yaml loaded successfully]\n",
      "[2024-07-22 23:16:50,686: INFO: common: yaml file: metrics/params.yaml loaded successfully]\n",
      "[2024-07-22 23:16:50,689: INFO: common: created directory at: artifacts]\n",
      "[2024-07-22 23:16:50,691: INFO: common: created directory at: artifacts/predict]\n"
     ]
    }
   ],
   "source": [
    "config = ConfigurationManager()\n",
    "predict_config = config.get_prediction_config()"
   ]
  },
  {
   "cell_type": "markdown",
   "metadata": {},
   "source": [
    "Select the deployed model from MLflow."
   ]
  },
  {
   "cell_type": "code",
   "execution_count": 11,
   "metadata": {},
   "outputs": [
    {
     "data": {
      "text/plain": [
       "'mlflow-artifacts:/1/d0ed298a35ee4ca3acd3cc76defdbf20/artifacts/models'"
      ]
     },
     "execution_count": 11,
     "metadata": {},
     "output_type": "execute_result"
    }
   ],
   "source": [
    "client = MlflowClient(tracking_uri=predict_config.mlflow_tracking_uri)\n",
    "selected_model = client.get_model_version_by_alias(\n",
    "    predict_config.mlflow_model_name, \n",
    "    predict_config.mlflow_deploy_model_alias\n",
    ")\n",
    "\n",
    "selected_model.source"
   ]
  },
  {
   "cell_type": "code",
   "execution_count": 12,
   "metadata": {},
   "outputs": [
    {
     "data": {
      "application/vnd.jupyter.widget-view+json": {
       "model_id": "3e1daf98b4584d83a87871408f3b77c0",
       "version_major": 2,
       "version_minor": 0
      },
      "text/plain": [
       "Downloading artifacts:   0%|          | 0/6 [00:00<?, ?it/s]"
      ]
     },
     "metadata": {},
     "output_type": "display_data"
    },
    {
     "data": {
      "text/plain": [
       "mlflow.pyfunc.loaded_model:\n",
       "  artifact_path: models\n",
       "  flavor: mlflow.sklearn\n",
       "  run_id: d0ed298a35ee4ca3acd3cc76defdbf20"
      ]
     },
     "execution_count": 12,
     "metadata": {},
     "output_type": "execute_result"
    }
   ],
   "source": [
    "loaded_model = pyfunc.load_model(model_uri=selected_model.source)\n",
    "loaded_model"
   ]
  },
  {
   "cell_type": "markdown",
   "metadata": {},
   "source": [
    "Get the model `run_id`."
   ]
  },
  {
   "cell_type": "code",
   "execution_count": 13,
   "metadata": {},
   "outputs": [
    {
     "data": {
      "text/plain": [
       "'d0ed298a35ee4ca3acd3cc76defdbf20'"
      ]
     },
     "execution_count": 13,
     "metadata": {},
     "output_type": "execute_result"
    }
   ],
   "source": [
    "selected_run_id = selected_model.run_id\n",
    "selected_run_id"
   ]
  },
  {
   "cell_type": "markdown",
   "metadata": {},
   "source": [
    "Download vectorizer (one of the MLflow artifact) from MLflow."
   ]
  },
  {
   "cell_type": "code",
   "execution_count": 14,
   "metadata": {},
   "outputs": [
    {
     "data": {
      "application/vnd.jupyter.widget-view+json": {
       "model_id": "12432ba53b1840b8a78feb07f64e69dd",
       "version_major": 2,
       "version_minor": 0
      },
      "text/plain": [
       "Downloading artifacts:   0%|          | 0/1 [00:00<?, ?it/s]"
      ]
     },
     "metadata": {},
     "output_type": "display_data"
    },
    {
     "data": {
      "text/plain": [
       "'/home/adhitizki/playground/pacmann/mlops_credit_card/mlops-credit-card/artifacts/predict/scaler/scaler.pkl'"
      ]
     },
     "execution_count": 14,
     "metadata": {},
     "output_type": "execute_result"
    }
   ],
   "source": [
    "download_artifacts(\n",
    "    run_id=selected_run_id,\n",
    "    artifact_path=predict_config.mlflow_scaler_model_path,\n",
    "    dst_path=predict_config.root_dir\n",
    ")"
   ]
  },
  {
   "cell_type": "markdown",
   "metadata": {},
   "source": [
    "Load the downloaded vectorizer."
   ]
  },
  {
   "cell_type": "code",
   "execution_count": 15,
   "metadata": {},
   "outputs": [
    {
     "data": {
      "text/html": [
       "<style>#sk-container-id-1 {\n",
       "  /* Definition of color scheme common for light and dark mode */\n",
       "  --sklearn-color-text: black;\n",
       "  --sklearn-color-line: gray;\n",
       "  /* Definition of color scheme for unfitted estimators */\n",
       "  --sklearn-color-unfitted-level-0: #fff5e6;\n",
       "  --sklearn-color-unfitted-level-1: #f6e4d2;\n",
       "  --sklearn-color-unfitted-level-2: #ffe0b3;\n",
       "  --sklearn-color-unfitted-level-3: chocolate;\n",
       "  /* Definition of color scheme for fitted estimators */\n",
       "  --sklearn-color-fitted-level-0: #f0f8ff;\n",
       "  --sklearn-color-fitted-level-1: #d4ebff;\n",
       "  --sklearn-color-fitted-level-2: #b3dbfd;\n",
       "  --sklearn-color-fitted-level-3: cornflowerblue;\n",
       "\n",
       "  /* Specific color for light theme */\n",
       "  --sklearn-color-text-on-default-background: var(--sg-text-color, var(--theme-code-foreground, var(--jp-content-font-color1, black)));\n",
       "  --sklearn-color-background: var(--sg-background-color, var(--theme-background, var(--jp-layout-color0, white)));\n",
       "  --sklearn-color-border-box: var(--sg-text-color, var(--theme-code-foreground, var(--jp-content-font-color1, black)));\n",
       "  --sklearn-color-icon: #696969;\n",
       "\n",
       "  @media (prefers-color-scheme: dark) {\n",
       "    /* Redefinition of color scheme for dark theme */\n",
       "    --sklearn-color-text-on-default-background: var(--sg-text-color, var(--theme-code-foreground, var(--jp-content-font-color1, white)));\n",
       "    --sklearn-color-background: var(--sg-background-color, var(--theme-background, var(--jp-layout-color0, #111)));\n",
       "    --sklearn-color-border-box: var(--sg-text-color, var(--theme-code-foreground, var(--jp-content-font-color1, white)));\n",
       "    --sklearn-color-icon: #878787;\n",
       "  }\n",
       "}\n",
       "\n",
       "#sk-container-id-1 {\n",
       "  color: var(--sklearn-color-text);\n",
       "}\n",
       "\n",
       "#sk-container-id-1 pre {\n",
       "  padding: 0;\n",
       "}\n",
       "\n",
       "#sk-container-id-1 input.sk-hidden--visually {\n",
       "  border: 0;\n",
       "  clip: rect(1px 1px 1px 1px);\n",
       "  clip: rect(1px, 1px, 1px, 1px);\n",
       "  height: 1px;\n",
       "  margin: -1px;\n",
       "  overflow: hidden;\n",
       "  padding: 0;\n",
       "  position: absolute;\n",
       "  width: 1px;\n",
       "}\n",
       "\n",
       "#sk-container-id-1 div.sk-dashed-wrapped {\n",
       "  border: 1px dashed var(--sklearn-color-line);\n",
       "  margin: 0 0.4em 0.5em 0.4em;\n",
       "  box-sizing: border-box;\n",
       "  padding-bottom: 0.4em;\n",
       "  background-color: var(--sklearn-color-background);\n",
       "}\n",
       "\n",
       "#sk-container-id-1 div.sk-container {\n",
       "  /* jupyter's `normalize.less` sets `[hidden] { display: none; }`\n",
       "     but bootstrap.min.css set `[hidden] { display: none !important; }`\n",
       "     so we also need the `!important` here to be able to override the\n",
       "     default hidden behavior on the sphinx rendered scikit-learn.org.\n",
       "     See: https://github.com/scikit-learn/scikit-learn/issues/21755 */\n",
       "  display: inline-block !important;\n",
       "  position: relative;\n",
       "}\n",
       "\n",
       "#sk-container-id-1 div.sk-text-repr-fallback {\n",
       "  display: none;\n",
       "}\n",
       "\n",
       "div.sk-parallel-item,\n",
       "div.sk-serial,\n",
       "div.sk-item {\n",
       "  /* draw centered vertical line to link estimators */\n",
       "  background-image: linear-gradient(var(--sklearn-color-text-on-default-background), var(--sklearn-color-text-on-default-background));\n",
       "  background-size: 2px 100%;\n",
       "  background-repeat: no-repeat;\n",
       "  background-position: center center;\n",
       "}\n",
       "\n",
       "/* Parallel-specific style estimator block */\n",
       "\n",
       "#sk-container-id-1 div.sk-parallel-item::after {\n",
       "  content: \"\";\n",
       "  width: 100%;\n",
       "  border-bottom: 2px solid var(--sklearn-color-text-on-default-background);\n",
       "  flex-grow: 1;\n",
       "}\n",
       "\n",
       "#sk-container-id-1 div.sk-parallel {\n",
       "  display: flex;\n",
       "  align-items: stretch;\n",
       "  justify-content: center;\n",
       "  background-color: var(--sklearn-color-background);\n",
       "  position: relative;\n",
       "}\n",
       "\n",
       "#sk-container-id-1 div.sk-parallel-item {\n",
       "  display: flex;\n",
       "  flex-direction: column;\n",
       "}\n",
       "\n",
       "#sk-container-id-1 div.sk-parallel-item:first-child::after {\n",
       "  align-self: flex-end;\n",
       "  width: 50%;\n",
       "}\n",
       "\n",
       "#sk-container-id-1 div.sk-parallel-item:last-child::after {\n",
       "  align-self: flex-start;\n",
       "  width: 50%;\n",
       "}\n",
       "\n",
       "#sk-container-id-1 div.sk-parallel-item:only-child::after {\n",
       "  width: 0;\n",
       "}\n",
       "\n",
       "/* Serial-specific style estimator block */\n",
       "\n",
       "#sk-container-id-1 div.sk-serial {\n",
       "  display: flex;\n",
       "  flex-direction: column;\n",
       "  align-items: center;\n",
       "  background-color: var(--sklearn-color-background);\n",
       "  padding-right: 1em;\n",
       "  padding-left: 1em;\n",
       "}\n",
       "\n",
       "\n",
       "/* Toggleable style: style used for estimator/Pipeline/ColumnTransformer box that is\n",
       "clickable and can be expanded/collapsed.\n",
       "- Pipeline and ColumnTransformer use this feature and define the default style\n",
       "- Estimators will overwrite some part of the style using the `sk-estimator` class\n",
       "*/\n",
       "\n",
       "/* Pipeline and ColumnTransformer style (default) */\n",
       "\n",
       "#sk-container-id-1 div.sk-toggleable {\n",
       "  /* Default theme specific background. It is overwritten whether we have a\n",
       "  specific estimator or a Pipeline/ColumnTransformer */\n",
       "  background-color: var(--sklearn-color-background);\n",
       "}\n",
       "\n",
       "/* Toggleable label */\n",
       "#sk-container-id-1 label.sk-toggleable__label {\n",
       "  cursor: pointer;\n",
       "  display: block;\n",
       "  width: 100%;\n",
       "  margin-bottom: 0;\n",
       "  padding: 0.5em;\n",
       "  box-sizing: border-box;\n",
       "  text-align: center;\n",
       "}\n",
       "\n",
       "#sk-container-id-1 label.sk-toggleable__label-arrow:before {\n",
       "  /* Arrow on the left of the label */\n",
       "  content: \"▸\";\n",
       "  float: left;\n",
       "  margin-right: 0.25em;\n",
       "  color: var(--sklearn-color-icon);\n",
       "}\n",
       "\n",
       "#sk-container-id-1 label.sk-toggleable__label-arrow:hover:before {\n",
       "  color: var(--sklearn-color-text);\n",
       "}\n",
       "\n",
       "/* Toggleable content - dropdown */\n",
       "\n",
       "#sk-container-id-1 div.sk-toggleable__content {\n",
       "  max-height: 0;\n",
       "  max-width: 0;\n",
       "  overflow: hidden;\n",
       "  text-align: left;\n",
       "  /* unfitted */\n",
       "  background-color: var(--sklearn-color-unfitted-level-0);\n",
       "}\n",
       "\n",
       "#sk-container-id-1 div.sk-toggleable__content.fitted {\n",
       "  /* fitted */\n",
       "  background-color: var(--sklearn-color-fitted-level-0);\n",
       "}\n",
       "\n",
       "#sk-container-id-1 div.sk-toggleable__content pre {\n",
       "  margin: 0.2em;\n",
       "  border-radius: 0.25em;\n",
       "  color: var(--sklearn-color-text);\n",
       "  /* unfitted */\n",
       "  background-color: var(--sklearn-color-unfitted-level-0);\n",
       "}\n",
       "\n",
       "#sk-container-id-1 div.sk-toggleable__content.fitted pre {\n",
       "  /* unfitted */\n",
       "  background-color: var(--sklearn-color-fitted-level-0);\n",
       "}\n",
       "\n",
       "#sk-container-id-1 input.sk-toggleable__control:checked~div.sk-toggleable__content {\n",
       "  /* Expand drop-down */\n",
       "  max-height: 200px;\n",
       "  max-width: 100%;\n",
       "  overflow: auto;\n",
       "}\n",
       "\n",
       "#sk-container-id-1 input.sk-toggleable__control:checked~label.sk-toggleable__label-arrow:before {\n",
       "  content: \"▾\";\n",
       "}\n",
       "\n",
       "/* Pipeline/ColumnTransformer-specific style */\n",
       "\n",
       "#sk-container-id-1 div.sk-label input.sk-toggleable__control:checked~label.sk-toggleable__label {\n",
       "  color: var(--sklearn-color-text);\n",
       "  background-color: var(--sklearn-color-unfitted-level-2);\n",
       "}\n",
       "\n",
       "#sk-container-id-1 div.sk-label.fitted input.sk-toggleable__control:checked~label.sk-toggleable__label {\n",
       "  background-color: var(--sklearn-color-fitted-level-2);\n",
       "}\n",
       "\n",
       "/* Estimator-specific style */\n",
       "\n",
       "/* Colorize estimator box */\n",
       "#sk-container-id-1 div.sk-estimator input.sk-toggleable__control:checked~label.sk-toggleable__label {\n",
       "  /* unfitted */\n",
       "  background-color: var(--sklearn-color-unfitted-level-2);\n",
       "}\n",
       "\n",
       "#sk-container-id-1 div.sk-estimator.fitted input.sk-toggleable__control:checked~label.sk-toggleable__label {\n",
       "  /* fitted */\n",
       "  background-color: var(--sklearn-color-fitted-level-2);\n",
       "}\n",
       "\n",
       "#sk-container-id-1 div.sk-label label.sk-toggleable__label,\n",
       "#sk-container-id-1 div.sk-label label {\n",
       "  /* The background is the default theme color */\n",
       "  color: var(--sklearn-color-text-on-default-background);\n",
       "}\n",
       "\n",
       "/* On hover, darken the color of the background */\n",
       "#sk-container-id-1 div.sk-label:hover label.sk-toggleable__label {\n",
       "  color: var(--sklearn-color-text);\n",
       "  background-color: var(--sklearn-color-unfitted-level-2);\n",
       "}\n",
       "\n",
       "/* Label box, darken color on hover, fitted */\n",
       "#sk-container-id-1 div.sk-label.fitted:hover label.sk-toggleable__label.fitted {\n",
       "  color: var(--sklearn-color-text);\n",
       "  background-color: var(--sklearn-color-fitted-level-2);\n",
       "}\n",
       "\n",
       "/* Estimator label */\n",
       "\n",
       "#sk-container-id-1 div.sk-label label {\n",
       "  font-family: monospace;\n",
       "  font-weight: bold;\n",
       "  display: inline-block;\n",
       "  line-height: 1.2em;\n",
       "}\n",
       "\n",
       "#sk-container-id-1 div.sk-label-container {\n",
       "  text-align: center;\n",
       "}\n",
       "\n",
       "/* Estimator-specific */\n",
       "#sk-container-id-1 div.sk-estimator {\n",
       "  font-family: monospace;\n",
       "  border: 1px dotted var(--sklearn-color-border-box);\n",
       "  border-radius: 0.25em;\n",
       "  box-sizing: border-box;\n",
       "  margin-bottom: 0.5em;\n",
       "  /* unfitted */\n",
       "  background-color: var(--sklearn-color-unfitted-level-0);\n",
       "}\n",
       "\n",
       "#sk-container-id-1 div.sk-estimator.fitted {\n",
       "  /* fitted */\n",
       "  background-color: var(--sklearn-color-fitted-level-0);\n",
       "}\n",
       "\n",
       "/* on hover */\n",
       "#sk-container-id-1 div.sk-estimator:hover {\n",
       "  /* unfitted */\n",
       "  background-color: var(--sklearn-color-unfitted-level-2);\n",
       "}\n",
       "\n",
       "#sk-container-id-1 div.sk-estimator.fitted:hover {\n",
       "  /* fitted */\n",
       "  background-color: var(--sklearn-color-fitted-level-2);\n",
       "}\n",
       "\n",
       "/* Specification for estimator info (e.g. \"i\" and \"?\") */\n",
       "\n",
       "/* Common style for \"i\" and \"?\" */\n",
       "\n",
       ".sk-estimator-doc-link,\n",
       "a:link.sk-estimator-doc-link,\n",
       "a:visited.sk-estimator-doc-link {\n",
       "  float: right;\n",
       "  font-size: smaller;\n",
       "  line-height: 1em;\n",
       "  font-family: monospace;\n",
       "  background-color: var(--sklearn-color-background);\n",
       "  border-radius: 1em;\n",
       "  height: 1em;\n",
       "  width: 1em;\n",
       "  text-decoration: none !important;\n",
       "  margin-left: 1ex;\n",
       "  /* unfitted */\n",
       "  border: var(--sklearn-color-unfitted-level-1) 1pt solid;\n",
       "  color: var(--sklearn-color-unfitted-level-1);\n",
       "}\n",
       "\n",
       ".sk-estimator-doc-link.fitted,\n",
       "a:link.sk-estimator-doc-link.fitted,\n",
       "a:visited.sk-estimator-doc-link.fitted {\n",
       "  /* fitted */\n",
       "  border: var(--sklearn-color-fitted-level-1) 1pt solid;\n",
       "  color: var(--sklearn-color-fitted-level-1);\n",
       "}\n",
       "\n",
       "/* On hover */\n",
       "div.sk-estimator:hover .sk-estimator-doc-link:hover,\n",
       ".sk-estimator-doc-link:hover,\n",
       "div.sk-label-container:hover .sk-estimator-doc-link:hover,\n",
       ".sk-estimator-doc-link:hover {\n",
       "  /* unfitted */\n",
       "  background-color: var(--sklearn-color-unfitted-level-3);\n",
       "  color: var(--sklearn-color-background);\n",
       "  text-decoration: none;\n",
       "}\n",
       "\n",
       "div.sk-estimator.fitted:hover .sk-estimator-doc-link.fitted:hover,\n",
       ".sk-estimator-doc-link.fitted:hover,\n",
       "div.sk-label-container:hover .sk-estimator-doc-link.fitted:hover,\n",
       ".sk-estimator-doc-link.fitted:hover {\n",
       "  /* fitted */\n",
       "  background-color: var(--sklearn-color-fitted-level-3);\n",
       "  color: var(--sklearn-color-background);\n",
       "  text-decoration: none;\n",
       "}\n",
       "\n",
       "/* Span, style for the box shown on hovering the info icon */\n",
       ".sk-estimator-doc-link span {\n",
       "  display: none;\n",
       "  z-index: 9999;\n",
       "  position: relative;\n",
       "  font-weight: normal;\n",
       "  right: .2ex;\n",
       "  padding: .5ex;\n",
       "  margin: .5ex;\n",
       "  width: min-content;\n",
       "  min-width: 20ex;\n",
       "  max-width: 50ex;\n",
       "  color: var(--sklearn-color-text);\n",
       "  box-shadow: 2pt 2pt 4pt #999;\n",
       "  /* unfitted */\n",
       "  background: var(--sklearn-color-unfitted-level-0);\n",
       "  border: .5pt solid var(--sklearn-color-unfitted-level-3);\n",
       "}\n",
       "\n",
       ".sk-estimator-doc-link.fitted span {\n",
       "  /* fitted */\n",
       "  background: var(--sklearn-color-fitted-level-0);\n",
       "  border: var(--sklearn-color-fitted-level-3);\n",
       "}\n",
       "\n",
       ".sk-estimator-doc-link:hover span {\n",
       "  display: block;\n",
       "}\n",
       "\n",
       "/* \"?\"-specific style due to the `<a>` HTML tag */\n",
       "\n",
       "#sk-container-id-1 a.estimator_doc_link {\n",
       "  float: right;\n",
       "  font-size: 1rem;\n",
       "  line-height: 1em;\n",
       "  font-family: monospace;\n",
       "  background-color: var(--sklearn-color-background);\n",
       "  border-radius: 1rem;\n",
       "  height: 1rem;\n",
       "  width: 1rem;\n",
       "  text-decoration: none;\n",
       "  /* unfitted */\n",
       "  color: var(--sklearn-color-unfitted-level-1);\n",
       "  border: var(--sklearn-color-unfitted-level-1) 1pt solid;\n",
       "}\n",
       "\n",
       "#sk-container-id-1 a.estimator_doc_link.fitted {\n",
       "  /* fitted */\n",
       "  border: var(--sklearn-color-fitted-level-1) 1pt solid;\n",
       "  color: var(--sklearn-color-fitted-level-1);\n",
       "}\n",
       "\n",
       "/* On hover */\n",
       "#sk-container-id-1 a.estimator_doc_link:hover {\n",
       "  /* unfitted */\n",
       "  background-color: var(--sklearn-color-unfitted-level-3);\n",
       "  color: var(--sklearn-color-background);\n",
       "  text-decoration: none;\n",
       "}\n",
       "\n",
       "#sk-container-id-1 a.estimator_doc_link.fitted:hover {\n",
       "  /* fitted */\n",
       "  background-color: var(--sklearn-color-fitted-level-3);\n",
       "}\n",
       "</style><div id=\"sk-container-id-1\" class=\"sk-top-container\"><div class=\"sk-text-repr-fallback\"><pre>StandardScaler()</pre><b>In a Jupyter environment, please rerun this cell to show the HTML representation or trust the notebook. <br />On GitHub, the HTML representation is unable to render, please try loading this page with nbviewer.org.</b></div><div class=\"sk-container\" hidden><div class=\"sk-item\"><div class=\"sk-estimator fitted sk-toggleable\"><input class=\"sk-toggleable__control sk-hidden--visually\" id=\"sk-estimator-id-1\" type=\"checkbox\" checked><label for=\"sk-estimator-id-1\" class=\"sk-toggleable__label fitted sk-toggleable__label-arrow fitted\">&nbsp;&nbsp;StandardScaler<a class=\"sk-estimator-doc-link fitted\" rel=\"noreferrer\" target=\"_blank\" href=\"https://scikit-learn.org/1.5/modules/generated/sklearn.preprocessing.StandardScaler.html\">?<span>Documentation for StandardScaler</span></a><span class=\"sk-estimator-doc-link fitted\">i<span>Fitted</span></span></label><div class=\"sk-toggleable__content fitted\"><pre>StandardScaler()</pre></div> </div></div></div></div>"
      ],
      "text/plain": [
       "StandardScaler()"
      ]
     },
     "execution_count": 15,
     "metadata": {},
     "output_type": "execute_result"
    }
   ],
   "source": [
    "root_dir = predict_config.root_dir\n",
    "mlflow_scaler_model_path = predict_config.mlflow_scaler_model_path\n",
    "scaler_model_path = f\"{root_dir}/{mlflow_scaler_model_path}\"\n",
    "scaler = joblib.load(scaler_model_path)\n",
    "scaler"
   ]
  },
  {
   "cell_type": "markdown",
   "metadata": {},
   "source": [
    "Predict and evaluate the data test as input."
   ]
  },
  {
   "cell_type": "code",
   "execution_count": 16,
   "metadata": {},
   "outputs": [],
   "source": [
    "X_valid = joblib.load(predict_config.input_valid_path)\n",
    "y_valid = joblib.load(predict_config.output_valid_path)"
   ]
  },
  {
   "cell_type": "code",
   "execution_count": 17,
   "metadata": {},
   "outputs": [
    {
     "data": {
      "text/html": [
       "<div>\n",
       "<style scoped>\n",
       "    .dataframe tbody tr th:only-of-type {\n",
       "        vertical-align: middle;\n",
       "    }\n",
       "\n",
       "    .dataframe tbody tr th {\n",
       "        vertical-align: top;\n",
       "    }\n",
       "\n",
       "    .dataframe thead th {\n",
       "        text-align: right;\n",
       "    }\n",
       "</style>\n",
       "<table border=\"1\" class=\"dataframe\">\n",
       "  <thead>\n",
       "    <tr style=\"text-align: right;\">\n",
       "      <th></th>\n",
       "      <th>V1</th>\n",
       "      <th>V2</th>\n",
       "      <th>V3</th>\n",
       "      <th>V4</th>\n",
       "      <th>V5</th>\n",
       "      <th>V6</th>\n",
       "      <th>V7</th>\n",
       "      <th>V8</th>\n",
       "      <th>V9</th>\n",
       "      <th>V10</th>\n",
       "      <th>...</th>\n",
       "      <th>V20</th>\n",
       "      <th>V21</th>\n",
       "      <th>V22</th>\n",
       "      <th>V23</th>\n",
       "      <th>V24</th>\n",
       "      <th>V25</th>\n",
       "      <th>V26</th>\n",
       "      <th>V27</th>\n",
       "      <th>V28</th>\n",
       "      <th>Amount</th>\n",
       "    </tr>\n",
       "  </thead>\n",
       "  <tbody>\n",
       "    <tr>\n",
       "      <th>52335</th>\n",
       "      <td>0.026959</td>\n",
       "      <td>-0.126982</td>\n",
       "      <td>1.618991</td>\n",
       "      <td>-0.441741</td>\n",
       "      <td>0.300002</td>\n",
       "      <td>0.127898</td>\n",
       "      <td>0.716459</td>\n",
       "      <td>-0.154763</td>\n",
       "      <td>0.032103</td>\n",
       "      <td>0.485643</td>\n",
       "      <td>...</td>\n",
       "      <td>-0.204385</td>\n",
       "      <td>-0.048270</td>\n",
       "      <td>0.303284</td>\n",
       "      <td>-0.133856</td>\n",
       "      <td>1.117723</td>\n",
       "      <td>-0.541355</td>\n",
       "      <td>-1.410231</td>\n",
       "      <td>-0.060327</td>\n",
       "      <td>0.256329</td>\n",
       "      <td>21851.03</td>\n",
       "    </tr>\n",
       "    <tr>\n",
       "      <th>39501</th>\n",
       "      <td>0.142067</td>\n",
       "      <td>-0.565915</td>\n",
       "      <td>0.495495</td>\n",
       "      <td>-2.204124</td>\n",
       "      <td>1.565482</td>\n",
       "      <td>2.393946</td>\n",
       "      <td>0.556355</td>\n",
       "      <td>-0.111966</td>\n",
       "      <td>-0.004773</td>\n",
       "      <td>1.158851</td>\n",
       "      <td>...</td>\n",
       "      <td>0.226744</td>\n",
       "      <td>-0.239844</td>\n",
       "      <td>-0.611218</td>\n",
       "      <td>0.136396</td>\n",
       "      <td>1.412551</td>\n",
       "      <td>-1.185462</td>\n",
       "      <td>-1.528993</td>\n",
       "      <td>-0.809289</td>\n",
       "      <td>-1.373998</td>\n",
       "      <td>11450.21</td>\n",
       "    </tr>\n",
       "    <tr>\n",
       "      <th>13640</th>\n",
       "      <td>-0.058849</td>\n",
       "      <td>-1.478973</td>\n",
       "      <td>-0.352570</td>\n",
       "      <td>0.267406</td>\n",
       "      <td>-0.385502</td>\n",
       "      <td>0.440511</td>\n",
       "      <td>1.146811</td>\n",
       "      <td>-0.177120</td>\n",
       "      <td>0.202304</td>\n",
       "      <td>0.164229</td>\n",
       "      <td>...</td>\n",
       "      <td>1.827847</td>\n",
       "      <td>0.246913</td>\n",
       "      <td>0.070856</td>\n",
       "      <td>0.276167</td>\n",
       "      <td>0.120955</td>\n",
       "      <td>0.180710</td>\n",
       "      <td>-1.208093</td>\n",
       "      <td>-0.412153</td>\n",
       "      <td>0.079310</td>\n",
       "      <td>8966.13</td>\n",
       "    </tr>\n",
       "    <tr>\n",
       "      <th>29892</th>\n",
       "      <td>-0.688415</td>\n",
       "      <td>-0.341557</td>\n",
       "      <td>-0.106558</td>\n",
       "      <td>0.621967</td>\n",
       "      <td>0.305150</td>\n",
       "      <td>-0.306676</td>\n",
       "      <td>-0.686923</td>\n",
       "      <td>-0.013694</td>\n",
       "      <td>-0.355037</td>\n",
       "      <td>-0.431664</td>\n",
       "      <td>...</td>\n",
       "      <td>-0.192917</td>\n",
       "      <td>0.211144</td>\n",
       "      <td>0.068983</td>\n",
       "      <td>-0.816323</td>\n",
       "      <td>-0.377160</td>\n",
       "      <td>-0.838943</td>\n",
       "      <td>-0.673803</td>\n",
       "      <td>0.730304</td>\n",
       "      <td>-0.898668</td>\n",
       "      <td>1690.60</td>\n",
       "    </tr>\n",
       "    <tr>\n",
       "      <th>15317</th>\n",
       "      <td>-0.056187</td>\n",
       "      <td>0.337458</td>\n",
       "      <td>-0.374867</td>\n",
       "      <td>0.792098</td>\n",
       "      <td>2.436512</td>\n",
       "      <td>-1.118160</td>\n",
       "      <td>1.305309</td>\n",
       "      <td>-0.236867</td>\n",
       "      <td>-0.660626</td>\n",
       "      <td>-0.129328</td>\n",
       "      <td>...</td>\n",
       "      <td>-0.236873</td>\n",
       "      <td>-0.151060</td>\n",
       "      <td>-0.307905</td>\n",
       "      <td>-0.288629</td>\n",
       "      <td>-0.631406</td>\n",
       "      <td>1.622052</td>\n",
       "      <td>0.939539</td>\n",
       "      <td>-0.360283</td>\n",
       "      <td>0.344625</td>\n",
       "      <td>520.00</td>\n",
       "    </tr>\n",
       "  </tbody>\n",
       "</table>\n",
       "<p>5 rows × 29 columns</p>\n",
       "</div>"
      ],
      "text/plain": [
       "             V1        V2        V3        V4        V5        V6        V7  \\\n",
       "52335  0.026959 -0.126982  1.618991 -0.441741  0.300002  0.127898  0.716459   \n",
       "39501  0.142067 -0.565915  0.495495 -2.204124  1.565482  2.393946  0.556355   \n",
       "13640 -0.058849 -1.478973 -0.352570  0.267406 -0.385502  0.440511  1.146811   \n",
       "29892 -0.688415 -0.341557 -0.106558  0.621967  0.305150 -0.306676 -0.686923   \n",
       "15317 -0.056187  0.337458 -0.374867  0.792098  2.436512 -1.118160  1.305309   \n",
       "\n",
       "             V8        V9       V10  ...       V20       V21       V22  \\\n",
       "52335 -0.154763  0.032103  0.485643  ... -0.204385 -0.048270  0.303284   \n",
       "39501 -0.111966 -0.004773  1.158851  ...  0.226744 -0.239844 -0.611218   \n",
       "13640 -0.177120  0.202304  0.164229  ...  1.827847  0.246913  0.070856   \n",
       "29892 -0.013694 -0.355037 -0.431664  ... -0.192917  0.211144  0.068983   \n",
       "15317 -0.236867 -0.660626 -0.129328  ... -0.236873 -0.151060 -0.307905   \n",
       "\n",
       "            V23       V24       V25       V26       V27       V28    Amount  \n",
       "52335 -0.133856  1.117723 -0.541355 -1.410231 -0.060327  0.256329  21851.03  \n",
       "39501  0.136396  1.412551 -1.185462 -1.528993 -0.809289 -1.373998  11450.21  \n",
       "13640  0.276167  0.120955  0.180710 -1.208093 -0.412153  0.079310   8966.13  \n",
       "29892 -0.816323 -0.377160 -0.838943 -0.673803  0.730304 -0.898668   1690.60  \n",
       "15317 -0.288629 -0.631406  1.622052  0.939539 -0.360283  0.344625    520.00  \n",
       "\n",
       "[5 rows x 29 columns]"
      ]
     },
     "execution_count": 17,
     "metadata": {},
     "output_type": "execute_result"
    }
   ],
   "source": [
    "X_valid.head()"
   ]
  },
  {
   "cell_type": "code",
   "execution_count": 18,
   "metadata": {},
   "outputs": [
    {
     "data": {
      "text/plain": [
       "(8530, 29)"
      ]
     },
     "execution_count": 18,
     "metadata": {},
     "output_type": "execute_result"
    }
   ],
   "source": [
    "X_valid.shape"
   ]
  },
  {
   "cell_type": "markdown",
   "metadata": {},
   "source": [
    "The request body, for the preparation of the http input request body."
   ]
  },
  {
   "cell_type": "markdown",
   "metadata": {},
   "source": [
    "Vectorize the data test as input."
   ]
  },
  {
   "cell_type": "code",
   "execution_count": 21,
   "metadata": {},
   "outputs": [
    {
     "data": {
      "text/html": [
       "<div>\n",
       "<style scoped>\n",
       "    .dataframe tbody tr th:only-of-type {\n",
       "        vertical-align: middle;\n",
       "    }\n",
       "\n",
       "    .dataframe tbody tr th {\n",
       "        vertical-align: top;\n",
       "    }\n",
       "\n",
       "    .dataframe thead th {\n",
       "        text-align: right;\n",
       "    }\n",
       "</style>\n",
       "<table border=\"1\" class=\"dataframe\">\n",
       "  <thead>\n",
       "    <tr style=\"text-align: right;\">\n",
       "      <th></th>\n",
       "      <th>V1</th>\n",
       "      <th>V2</th>\n",
       "      <th>V3</th>\n",
       "      <th>V4</th>\n",
       "      <th>V5</th>\n",
       "      <th>V6</th>\n",
       "      <th>V7</th>\n",
       "      <th>V8</th>\n",
       "      <th>V9</th>\n",
       "      <th>V10</th>\n",
       "      <th>...</th>\n",
       "      <th>V20</th>\n",
       "      <th>V21</th>\n",
       "      <th>V22</th>\n",
       "      <th>V23</th>\n",
       "      <th>V24</th>\n",
       "      <th>V25</th>\n",
       "      <th>V26</th>\n",
       "      <th>V27</th>\n",
       "      <th>V28</th>\n",
       "      <th>Amount</th>\n",
       "    </tr>\n",
       "  </thead>\n",
       "  <tbody>\n",
       "    <tr>\n",
       "      <th>0</th>\n",
       "      <td>0.020553</td>\n",
       "      <td>-0.129301</td>\n",
       "      <td>1.622804</td>\n",
       "      <td>-0.439500</td>\n",
       "      <td>0.298113</td>\n",
       "      <td>0.130156</td>\n",
       "      <td>0.772397</td>\n",
       "      <td>-0.158384</td>\n",
       "      <td>0.030275</td>\n",
       "      <td>0.487501</td>\n",
       "      <td>...</td>\n",
       "      <td>-0.214454</td>\n",
       "      <td>-0.043760</td>\n",
       "      <td>0.307043</td>\n",
       "      <td>-0.136438</td>\n",
       "      <td>1.115266</td>\n",
       "      <td>-0.544553</td>\n",
       "      <td>-1.409808</td>\n",
       "      <td>-0.059934</td>\n",
       "      <td>0.266003</td>\n",
       "      <td>1.417051</td>\n",
       "    </tr>\n",
       "    <tr>\n",
       "      <th>1</th>\n",
       "      <td>0.135963</td>\n",
       "      <td>-0.579896</td>\n",
       "      <td>0.494869</td>\n",
       "      <td>-2.210092</td>\n",
       "      <td>1.575276</td>\n",
       "      <td>2.426775</td>\n",
       "      <td>0.599597</td>\n",
       "      <td>-0.114667</td>\n",
       "      <td>-0.006793</td>\n",
       "      <td>1.167780</td>\n",
       "      <td>...</td>\n",
       "      <td>0.233632</td>\n",
       "      <td>-0.242117</td>\n",
       "      <td>-0.626751</td>\n",
       "      <td>0.143079</td>\n",
       "      <td>1.409530</td>\n",
       "      <td>-1.192386</td>\n",
       "      <td>-1.529034</td>\n",
       "      <td>-0.821011</td>\n",
       "      <td>-1.425621</td>\n",
       "      <td>-0.082478</td>\n",
       "    </tr>\n",
       "    <tr>\n",
       "      <th>2</th>\n",
       "      <td>-0.065480</td>\n",
       "      <td>-1.517216</td>\n",
       "      <td>-0.356547</td>\n",
       "      <td>0.272951</td>\n",
       "      <td>-0.393719</td>\n",
       "      <td>0.446987</td>\n",
       "      <td>1.236874</td>\n",
       "      <td>-0.181222</td>\n",
       "      <td>0.201362</td>\n",
       "      <td>0.162710</td>\n",
       "      <td>...</td>\n",
       "      <td>1.897710</td>\n",
       "      <td>0.261876</td>\n",
       "      <td>0.069711</td>\n",
       "      <td>0.287642</td>\n",
       "      <td>0.120405</td>\n",
       "      <td>0.181690</td>\n",
       "      <td>-1.206880</td>\n",
       "      <td>-0.417451</td>\n",
       "      <td>0.082328</td>\n",
       "      <td>-0.440617</td>\n",
       "    </tr>\n",
       "    <tr>\n",
       "      <th>3</th>\n",
       "      <td>-0.696697</td>\n",
       "      <td>-0.349577</td>\n",
       "      <td>-0.109563</td>\n",
       "      <td>0.629163</td>\n",
       "      <td>0.303309</td>\n",
       "      <td>-0.310280</td>\n",
       "      <td>-0.742269</td>\n",
       "      <td>-0.014281</td>\n",
       "      <td>-0.358882</td>\n",
       "      <td>-0.439442</td>\n",
       "      <td>...</td>\n",
       "      <td>-0.202535</td>\n",
       "      <td>0.224840</td>\n",
       "      <td>0.067799</td>\n",
       "      <td>-0.842302</td>\n",
       "      <td>-0.376757</td>\n",
       "      <td>-0.843862</td>\n",
       "      <td>-0.670502</td>\n",
       "      <td>0.743486</td>\n",
       "      <td>-0.932420</td>\n",
       "      <td>-1.489560</td>\n",
       "    </tr>\n",
       "    <tr>\n",
       "      <th>4</th>\n",
       "      <td>-0.062811</td>\n",
       "      <td>0.347481</td>\n",
       "      <td>-0.378932</td>\n",
       "      <td>0.800087</td>\n",
       "      <td>2.454347</td>\n",
       "      <td>-1.132711</td>\n",
       "      <td>1.407941</td>\n",
       "      <td>-0.242254</td>\n",
       "      <td>-0.666063</td>\n",
       "      <td>-0.133931</td>\n",
       "      <td>...</td>\n",
       "      <td>-0.248220</td>\n",
       "      <td>-0.150189</td>\n",
       "      <td>-0.317039</td>\n",
       "      <td>-0.296518</td>\n",
       "      <td>-0.630516</td>\n",
       "      <td>1.631371</td>\n",
       "      <td>0.949145</td>\n",
       "      <td>-0.364742</td>\n",
       "      <td>0.357619</td>\n",
       "      <td>-1.658330</td>\n",
       "    </tr>\n",
       "    <tr>\n",
       "      <th>...</th>\n",
       "      <td>...</td>\n",
       "      <td>...</td>\n",
       "      <td>...</td>\n",
       "      <td>...</td>\n",
       "      <td>...</td>\n",
       "      <td>...</td>\n",
       "      <td>...</td>\n",
       "      <td>...</td>\n",
       "      <td>...</td>\n",
       "      <td>...</td>\n",
       "      <td>...</td>\n",
       "      <td>...</td>\n",
       "      <td>...</td>\n",
       "      <td>...</td>\n",
       "      <td>...</td>\n",
       "      <td>...</td>\n",
       "      <td>...</td>\n",
       "      <td>...</td>\n",
       "      <td>...</td>\n",
       "      <td>...</td>\n",
       "      <td>...</td>\n",
       "    </tr>\n",
       "    <tr>\n",
       "      <th>8525</th>\n",
       "      <td>-0.290591</td>\n",
       "      <td>-0.136918</td>\n",
       "      <td>0.961237</td>\n",
       "      <td>-0.348507</td>\n",
       "      <td>0.648767</td>\n",
       "      <td>1.170936</td>\n",
       "      <td>0.789691</td>\n",
       "      <td>-0.275294</td>\n",
       "      <td>1.227750</td>\n",
       "      <td>1.332420</td>\n",
       "      <td>...</td>\n",
       "      <td>-0.408032</td>\n",
       "      <td>-0.262666</td>\n",
       "      <td>-0.827707</td>\n",
       "      <td>0.116553</td>\n",
       "      <td>-0.040842</td>\n",
       "      <td>-1.483498</td>\n",
       "      <td>-3.339004</td>\n",
       "      <td>-1.762353</td>\n",
       "      <td>0.015028</td>\n",
       "      <td>0.040356</td>\n",
       "    </tr>\n",
       "    <tr>\n",
       "      <th>8526</th>\n",
       "      <td>0.961035</td>\n",
       "      <td>-0.384725</td>\n",
       "      <td>0.668023</td>\n",
       "      <td>-0.188264</td>\n",
       "      <td>0.096557</td>\n",
       "      <td>0.006574</td>\n",
       "      <td>0.486883</td>\n",
       "      <td>-0.164420</td>\n",
       "      <td>0.425674</td>\n",
       "      <td>0.697179</td>\n",
       "      <td>...</td>\n",
       "      <td>-0.379336</td>\n",
       "      <td>-0.065387</td>\n",
       "      <td>0.121889</td>\n",
       "      <td>-0.106932</td>\n",
       "      <td>1.099647</td>\n",
       "      <td>0.906153</td>\n",
       "      <td>-0.852997</td>\n",
       "      <td>-0.239360</td>\n",
       "      <td>-0.075052</td>\n",
       "      <td>-1.616976</td>\n",
       "    </tr>\n",
       "    <tr>\n",
       "      <th>8527</th>\n",
       "      <td>-0.531269</td>\n",
       "      <td>-1.140320</td>\n",
       "      <td>0.316623</td>\n",
       "      <td>-0.535626</td>\n",
       "      <td>0.083928</td>\n",
       "      <td>0.424143</td>\n",
       "      <td>0.612504</td>\n",
       "      <td>-0.182671</td>\n",
       "      <td>0.076004</td>\n",
       "      <td>0.616164</td>\n",
       "      <td>...</td>\n",
       "      <td>-1.785607</td>\n",
       "      <td>-0.326947</td>\n",
       "      <td>-0.556260</td>\n",
       "      <td>-0.773452</td>\n",
       "      <td>-0.678318</td>\n",
       "      <td>-0.144476</td>\n",
       "      <td>-1.172008</td>\n",
       "      <td>-0.202200</td>\n",
       "      <td>-0.268051</td>\n",
       "      <td>-1.203331</td>\n",
       "    </tr>\n",
       "    <tr>\n",
       "      <th>8528</th>\n",
       "      <td>0.677616</td>\n",
       "      <td>-0.455874</td>\n",
       "      <td>0.196999</td>\n",
       "      <td>-0.328725</td>\n",
       "      <td>0.648574</td>\n",
       "      <td>0.721269</td>\n",
       "      <td>0.434870</td>\n",
       "      <td>-0.218825</td>\n",
       "      <td>0.999664</td>\n",
       "      <td>0.435809</td>\n",
       "      <td>...</td>\n",
       "      <td>-0.394042</td>\n",
       "      <td>-0.006148</td>\n",
       "      <td>0.119545</td>\n",
       "      <td>-0.204982</td>\n",
       "      <td>-0.638003</td>\n",
       "      <td>-0.146175</td>\n",
       "      <td>-0.576446</td>\n",
       "      <td>-0.226210</td>\n",
       "      <td>-0.473516</td>\n",
       "      <td>-1.474582</td>\n",
       "    </tr>\n",
       "    <tr>\n",
       "      <th>8529</th>\n",
       "      <td>-0.189266</td>\n",
       "      <td>0.462616</td>\n",
       "      <td>-0.642792</td>\n",
       "      <td>0.524245</td>\n",
       "      <td>-0.413397</td>\n",
       "      <td>-0.989063</td>\n",
       "      <td>-0.597244</td>\n",
       "      <td>0.228475</td>\n",
       "      <td>-0.121205</td>\n",
       "      <td>-0.959686</td>\n",
       "      <td>...</td>\n",
       "      <td>0.272496</td>\n",
       "      <td>0.179776</td>\n",
       "      <td>-0.313995</td>\n",
       "      <td>0.211502</td>\n",
       "      <td>0.213302</td>\n",
       "      <td>-1.057633</td>\n",
       "      <td>0.705867</td>\n",
       "      <td>0.439275</td>\n",
       "      <td>0.390491</td>\n",
       "      <td>-0.211548</td>\n",
       "    </tr>\n",
       "  </tbody>\n",
       "</table>\n",
       "<p>8530 rows × 29 columns</p>\n",
       "</div>"
      ],
      "text/plain": [
       "            V1        V2        V3        V4        V5        V6        V7  \\\n",
       "0     0.020553 -0.129301  1.622804 -0.439500  0.298113  0.130156  0.772397   \n",
       "1     0.135963 -0.579896  0.494869 -2.210092  1.575276  2.426775  0.599597   \n",
       "2    -0.065480 -1.517216 -0.356547  0.272951 -0.393719  0.446987  1.236874   \n",
       "3    -0.696697 -0.349577 -0.109563  0.629163  0.303309 -0.310280 -0.742269   \n",
       "4    -0.062811  0.347481 -0.378932  0.800087  2.454347 -1.132711  1.407941   \n",
       "...        ...       ...       ...       ...       ...       ...       ...   \n",
       "8525 -0.290591 -0.136918  0.961237 -0.348507  0.648767  1.170936  0.789691   \n",
       "8526  0.961035 -0.384725  0.668023 -0.188264  0.096557  0.006574  0.486883   \n",
       "8527 -0.531269 -1.140320  0.316623 -0.535626  0.083928  0.424143  0.612504   \n",
       "8528  0.677616 -0.455874  0.196999 -0.328725  0.648574  0.721269  0.434870   \n",
       "8529 -0.189266  0.462616 -0.642792  0.524245 -0.413397 -0.989063 -0.597244   \n",
       "\n",
       "            V8        V9       V10  ...       V20       V21       V22  \\\n",
       "0    -0.158384  0.030275  0.487501  ... -0.214454 -0.043760  0.307043   \n",
       "1    -0.114667 -0.006793  1.167780  ...  0.233632 -0.242117 -0.626751   \n",
       "2    -0.181222  0.201362  0.162710  ...  1.897710  0.261876  0.069711   \n",
       "3    -0.014281 -0.358882 -0.439442  ... -0.202535  0.224840  0.067799   \n",
       "4    -0.242254 -0.666063 -0.133931  ... -0.248220 -0.150189 -0.317039   \n",
       "...        ...       ...       ...  ...       ...       ...       ...   \n",
       "8525 -0.275294  1.227750  1.332420  ... -0.408032 -0.262666 -0.827707   \n",
       "8526 -0.164420  0.425674  0.697179  ... -0.379336 -0.065387  0.121889   \n",
       "8527 -0.182671  0.076004  0.616164  ... -1.785607 -0.326947 -0.556260   \n",
       "8528 -0.218825  0.999664  0.435809  ... -0.394042 -0.006148  0.119545   \n",
       "8529  0.228475 -0.121205 -0.959686  ...  0.272496  0.179776 -0.313995   \n",
       "\n",
       "           V23       V24       V25       V26       V27       V28    Amount  \n",
       "0    -0.136438  1.115266 -0.544553 -1.409808 -0.059934  0.266003  1.417051  \n",
       "1     0.143079  1.409530 -1.192386 -1.529034 -0.821011 -1.425621 -0.082478  \n",
       "2     0.287642  0.120405  0.181690 -1.206880 -0.417451  0.082328 -0.440617  \n",
       "3    -0.842302 -0.376757 -0.843862 -0.670502  0.743486 -0.932420 -1.489560  \n",
       "4    -0.296518 -0.630516  1.631371  0.949145 -0.364742  0.357619 -1.658330  \n",
       "...        ...       ...       ...       ...       ...       ...       ...  \n",
       "8525  0.116553 -0.040842 -1.483498 -3.339004 -1.762353  0.015028  0.040356  \n",
       "8526 -0.106932  1.099647  0.906153 -0.852997 -0.239360 -0.075052 -1.616976  \n",
       "8527 -0.773452 -0.678318 -0.144476 -1.172008 -0.202200 -0.268051 -1.203331  \n",
       "8528 -0.204982 -0.638003 -0.146175 -0.576446 -0.226210 -0.473516 -1.474582  \n",
       "8529  0.211502  0.213302 -1.057633  0.705867  0.439275  0.390491 -0.211548  \n",
       "\n",
       "[8530 rows x 29 columns]"
      ]
     },
     "execution_count": 21,
     "metadata": {},
     "output_type": "execute_result"
    }
   ],
   "source": [
    "import pandas as pd\n",
    "\n",
    "X_valid_scaled = scaler.transform(X_valid)\n",
    "X_valid_scaled = pd.DataFrame(X_valid_scaled, columns=X_valid.columns)\n",
    "X_valid_scaled"
   ]
  },
  {
   "cell_type": "markdown",
   "metadata": {},
   "source": [
    "Make prediction."
   ]
  },
  {
   "cell_type": "code",
   "execution_count": 22,
   "metadata": {},
   "outputs": [
    {
     "name": "stderr",
     "output_type": "stream",
     "text": [
      "/home/adhitizki/playground/pacmann/mlops_credit_card/mlops-credit-card/.venv/lib/python3.10/site-packages/sklearn/base.py:486: UserWarning: X has feature names, but LogisticRegression was fitted without feature names\n",
      "  warnings.warn(\n"
     ]
    }
   ],
   "source": [
    "y_predict = loaded_model.predict(X_valid_scaled)"
   ]
  },
  {
   "cell_type": "code",
   "execution_count": 23,
   "metadata": {},
   "outputs": [
    {
     "data": {
      "text/plain": [
       "8530"
      ]
     },
     "execution_count": 23,
     "metadata": {},
     "output_type": "execute_result"
    }
   ],
   "source": [
    "len(y_predict)"
   ]
  },
  {
   "cell_type": "code",
   "execution_count": 24,
   "metadata": {},
   "outputs": [
    {
     "data": {
      "text/plain": [
       "array([0, 0, 1, 1, 1, 0, 0, 0, 1, 1])"
      ]
     },
     "execution_count": 24,
     "metadata": {},
     "output_type": "execute_result"
    }
   ],
   "source": [
    "y_predict[:10]"
   ]
  },
  {
   "cell_type": "code",
   "execution_count": 25,
   "metadata": {},
   "outputs": [
    {
     "name": "stdout",
     "output_type": "stream",
     "text": [
      "              precision    recall  f1-score   support\n",
      "\n",
      "           0       0.95      0.97      0.96      4273\n",
      "           1       0.97      0.95      0.96      4257\n",
      "\n",
      "    accuracy                           0.96      8530\n",
      "   macro avg       0.96      0.96      0.96      8530\n",
      "weighted avg       0.96      0.96      0.96      8530\n",
      "\n"
     ]
    }
   ],
   "source": [
    "from sklearn.metrics import classification_report\n",
    "print(classification_report(y_valid, y_predict))"
   ]
  },
  {
   "cell_type": "markdown",
   "metadata": {},
   "source": [
    "---\n",
    "\n",
    "### Make Prediction\n",
    "\n",
    "This code in `src/LazadaIDReview/components/predict.py`."
   ]
  },
  {
   "cell_type": "code",
   "execution_count": 26,
   "metadata": {},
   "outputs": [],
   "source": [
    "from MLProject import logger\n",
    "\n",
    "class Predict:\n",
    "    def __init__(self, config: PredictionConfig):\n",
    "        self.config = config\n",
    "\n",
    "    def run(self, data: list) -> list:\n",
    "        \"\"\"predict the data with linear regression model\n",
    "        \n",
    "        Args:\n",
    "            data (pd.Dataframe): input data to predict\n",
    "\n",
    "        Raises:\n",
    "            client_error: error when access mlflow to get deployed model\n",
    "            download_error: error when download scaler from mlflow artifact\n",
    "            load_error: scaler error\n",
    "        \n",
    "        Returns:\n",
    "            y_predict: list type\n",
    "        \"\"\"\n",
    "        try:\n",
    "            logger.info(\"Set MLflow Client.\")\n",
    "            client = MlflowClient(tracking_uri=self.config.mlflow_tracking_uri)\n",
    "            \n",
    "            logger.info(\"Select the deployed model from MLflow.\")\n",
    "            selected_model = client.get_model_version_by_alias(\n",
    "                self.config.mlflow_model_name, \n",
    "                self.config.mlflow_deploy_model_alias\n",
    "            )\n",
    "            \n",
    "            logger.info(\"Get the deployed model run id.\")\n",
    "            selected_run_id = selected_model.run_id\n",
    "        except Exception as client_error:\n",
    "            logger.error(client_error)\n",
    "            raise client_error\n",
    "        \n",
    "        root_dir = self.config.root_dir\n",
    "        mlflow_scaler_model_path = self.config.mlflow_scaler_model_path\n",
    "        scaler_model_path = Path(f\"{root_dir}/{mlflow_scaler_model_path}\")\n",
    "        \n",
    "        try:\n",
    "            logger.info(\"Downloading scaler from MLflow's artifacts.\")\n",
    "            download_artifacts(\n",
    "                run_id=selected_run_id,\n",
    "                artifact_path=self.config.mlflow_scaler_model_path,\n",
    "                dst_path=self.config.root_dir\n",
    "            )\n",
    "        except Exception as download_error:\n",
    "            logger.error(download_error)\n",
    "            raise download_error\n",
    "        \n",
    "        try:\n",
    "            logger.info(\"Load the scaler model.\")\n",
    "            scaler = joblib.load(scaler_model_path)\n",
    "            \n",
    "            logger.info(\"Transform the data.\")\n",
    "            X_test_scaled = scaler.transform(data)\n",
    "            X_test_scaled = pd.DataFrame(X_test_scaled, columns=data.columns)\n",
    "\n",
    "        except Exception as load_error:\n",
    "            logger.error(load_error)\n",
    "            raise load_error\n",
    "        \n",
    "        logger.info(\"Predict the data.\")\n",
    "        loaded_model = pyfunc.load_model(model_uri=selected_model.source)\n",
    "        y_predict = loaded_model.predict(X_test_scaled).tolist()\n",
    "        \n",
    "        return y_predict"
   ]
  },
  {
   "cell_type": "markdown",
   "metadata": {},
   "source": [
    "### Predict the Data\n",
    "\n",
    "**Debug**: test the predict object and it's method."
   ]
  },
  {
   "cell_type": "code",
   "execution_count": 27,
   "metadata": {},
   "outputs": [
    {
     "name": "stdout",
     "output_type": "stream",
     "text": [
      "[2024-07-22 23:16:52,748: INFO: common: yaml file: config/config.yaml loaded successfully]\n",
      "[2024-07-22 23:16:52,752: INFO: common: yaml file: metrics/params.yaml loaded successfully]\n",
      "[2024-07-22 23:16:52,755: INFO: common: created directory at: artifacts]\n",
      "[2024-07-22 23:16:52,757: INFO: common: created directory at: artifacts/predict]\n"
     ]
    }
   ],
   "source": [
    "config = ConfigurationManager()\n",
    "predict_config = config.get_prediction_config()"
   ]
  },
  {
   "cell_type": "code",
   "execution_count": 28,
   "metadata": {},
   "outputs": [],
   "source": [
    "data = joblib.load(predict_config.input_valid_path)"
   ]
  },
  {
   "cell_type": "markdown",
   "metadata": {},
   "source": [
    "This code in `app.py`."
   ]
  },
  {
   "cell_type": "code",
   "execution_count": 29,
   "metadata": {},
   "outputs": [
    {
     "name": "stdout",
     "output_type": "stream",
     "text": [
      "[2024-07-22 23:16:52,912: INFO: common: yaml file: config/config.yaml loaded successfully]\n",
      "[2024-07-22 23:16:52,916: INFO: common: yaml file: metrics/params.yaml loaded successfully]\n",
      "[2024-07-22 23:16:52,919: INFO: common: created directory at: artifacts]\n",
      "[2024-07-22 23:16:52,921: INFO: common: created directory at: artifacts/predict]\n",
      "[2024-07-22 23:16:52,923: INFO: 713703144: Set MLflow Client.]\n",
      "[2024-07-22 23:16:52,927: INFO: 713703144: Select the deployed model from MLflow.]\n",
      "[2024-07-22 23:16:52,951: INFO: 713703144: Get the deployed model run id.]\n",
      "[2024-07-22 23:16:52,954: INFO: 713703144: Downloading scaler from MLflow's artifacts.]\n"
     ]
    },
    {
     "data": {
      "application/vnd.jupyter.widget-view+json": {
       "model_id": "d68e789687204a9c8b8382582792178d",
       "version_major": 2,
       "version_minor": 0
      },
      "text/plain": [
       "Downloading artifacts:   0%|          | 0/1 [00:00<?, ?it/s]"
      ]
     },
     "metadata": {},
     "output_type": "display_data"
    },
    {
     "name": "stdout",
     "output_type": "stream",
     "text": [
      "[2024-07-22 23:16:53,055: INFO: 713703144: Load the scaler model.]\n",
      "[2024-07-22 23:16:53,059: INFO: 713703144: Transform the data.]\n",
      "[2024-07-22 23:16:53,066: INFO: 713703144: Predict the data.]\n"
     ]
    },
    {
     "data": {
      "application/vnd.jupyter.widget-view+json": {
       "model_id": "c1318ca17b9a4b9eb05402c5e685e5be",
       "version_major": 2,
       "version_minor": 0
      },
      "text/plain": [
       "Downloading artifacts:   0%|          | 0/6 [00:00<?, ?it/s]"
      ]
     },
     "metadata": {},
     "output_type": "display_data"
    },
    {
     "name": "stderr",
     "output_type": "stream",
     "text": [
      "/home/adhitizki/playground/pacmann/mlops_credit_card/mlops-credit-card/.venv/lib/python3.10/site-packages/sklearn/base.py:486: UserWarning: X has feature names, but LogisticRegression was fitted without feature names\n",
      "  warnings.warn(\n"
     ]
    }
   ],
   "source": [
    "try:\n",
    "    config = ConfigurationManager()\n",
    "    predict_config = config.get_prediction_config()\n",
    "    predict = Predict(config=predict_config)\n",
    "    result = predict.run(data)\n",
    "except Exception as e:\n",
    "    logger.error(e)\n",
    "    raise e"
   ]
  },
  {
   "cell_type": "code",
   "execution_count": 30,
   "metadata": {},
   "outputs": [
    {
     "data": {
      "text/plain": [
       "8530"
      ]
     },
     "execution_count": 30,
     "metadata": {},
     "output_type": "execute_result"
    }
   ],
   "source": [
    "len(result)"
   ]
  },
  {
   "cell_type": "code",
   "execution_count": 31,
   "metadata": {},
   "outputs": [
    {
     "data": {
      "text/plain": [
       "[0, 0, 1, 1, 1, 0, 0, 0, 1, 1]"
      ]
     },
     "execution_count": 31,
     "metadata": {},
     "output_type": "execute_result"
    }
   ],
   "source": [
    "result[:10]"
   ]
  },
  {
   "cell_type": "code",
   "execution_count": null,
   "metadata": {},
   "outputs": [],
   "source": []
  }
 ],
 "metadata": {
  "kernelspec": {
   "display_name": ".lazada-id-reviews-venv",
   "language": "python",
   "name": "python3"
  },
  "language_info": {
   "codemirror_mode": {
    "name": "ipython",
    "version": 3
   },
   "file_extension": ".py",
   "mimetype": "text/x-python",
   "name": "python",
   "nbconvert_exporter": "python",
   "pygments_lexer": "ipython3",
   "version": "3.10.12"
  }
 },
 "nbformat": 4,
 "nbformat_minor": 2
}
